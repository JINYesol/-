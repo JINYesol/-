{
  "nbformat": 4,
  "nbformat_minor": 0,
  "metadata": {
    "colab": {
      "name": "02_언어분석_맛보기.ipynb의 사본",
      "provenance": [],
      "collapsed_sections": [],
      "toc_visible": true,
      "include_colab_link": true
    },
    "kernelspec": {
      "name": "python3",
      "display_name": "Python 3"
    }
  },
  "cells": [
    {
      "cell_type": "markdown",
      "metadata": {
        "id": "view-in-github",
        "colab_type": "text"
      },
      "source": [
        "<a href=\"https://colab.research.google.com/github/JINYesol/-/blob/main/02_%EC%96%B8%EC%96%B4%EB%B6%84%EC%84%9D_%EB%A7%9B%EB%B3%B4%EA%B8%B0_ipynb%EC%9D%98_%EC%82%AC%EB%B3%B8.ipynb\" target=\"_parent\"><img src=\"https://colab.research.google.com/assets/colab-badge.svg\" alt=\"Open In Colab\"/></a>"
      ]
    },
    {
      "cell_type": "code",
      "metadata": {
        "id": "0eHLeTgZ96ys",
        "cellView": "form",
        "outputId": "069f0d8b-9795-4a2c-8e60-9ea1a0baa387",
        "colab": {
          "base_uri": "https://localhost:8080/",
          "height": 409
        }
      },
      "source": [
        "#@title N-Gram - 띄어쓰기 기준 분리\n",
        "문장 = \"\\uBBF8\\uC548\\uD574 \\uB298 \\uBC1B\\uAE30\\uB9CC \\uD574\\uC11C \\uACE0\\uB9C8\\uC6CC \\uADF8\\uB9AC\\uACE0 \\uC0AC\\uB791\\uD574 \\uCC98\\uC74C \\uB0A0 \\uC6B8\\uB838\\uB358 \\uADF8 \\uB54C \\uADF8 \\uB9D0 \\uAE30\\uC5B5\\uD574 \\\"\\uB193\\uC9C0 \\uC54A\\uC744\\uAC8C\\\" \\uB77C\\uB294 \\uB9D0 \\uC57D\\uC18D\\uD560\\uAC8C \\uB098\\uB3C4 \\uC5B8\\uC81C\\uB098\"  #@param {type: \"string\"}\n",
        "NGram크기 = \"2\" #@param [\"1\", \"2\", \"3\", \"4\", \"5\", \"6\"] {allow-input: true}\n",
        "\n",
        "from nltk import ngrams\n",
        "\n",
        "ngrams = ngrams(문장.split(), int(NGram크기))\n",
        "\n",
        "for grams in ngrams:\n",
        "  print(grams)"
      ],
      "execution_count": null,
      "outputs": [
        {
          "output_type": "stream",
          "text": [
            "('미안해', '늘')\n",
            "('늘', '받기만')\n",
            "('받기만', '해서')\n",
            "('해서', '고마워')\n",
            "('고마워', '그리고')\n",
            "('그리고', '사랑해')\n",
            "('사랑해', '처음')\n",
            "('처음', '날')\n",
            "('날', '울렸던')\n",
            "('울렸던', '그')\n",
            "('그', '때')\n",
            "('때', '그')\n",
            "('그', '말')\n",
            "('말', '기억해')\n",
            "('기억해', '\"놓지')\n",
            "('\"놓지', '않을게\"')\n",
            "('않을게\"', '라는')\n",
            "('라는', '말')\n",
            "('말', '약속할게')\n",
            "('약속할게', '나도')\n",
            "('나도', '언제나')\n"
          ],
          "name": "stdout"
        }
      ]
    },
    {
      "cell_type": "code",
      "metadata": {
        "cellView": "form",
        "id": "5sZRTMJafCpf",
        "outputId": "125976af-9fe0-4144-9deb-b3e0873886bf",
        "colab": {
          "base_uri": "https://localhost:8080/",
          "height": 223
        }
      },
      "source": [
        "#@title N-Gram - 1글자 기준 분리\n",
        "문장 = '\\u8AB0\\u9084\\u8A18\\u5F97\\u662F\\u8AB0\\u5148\\u8AAA \\u6C38\\u9060\\u7684\\u611B\\u6211'  #@param {type: \"string\"}\n",
        "NGram크기 = \"4\" #@param [\"1\", \"2\", \"3\", \"4\", \"5\", \"6\"] {allow-input: true}\n",
        "\n",
        "from nltk import ngrams\n",
        "\n",
        "ngrams = list(ngrams(문장, int(NGram크기)))\n",
        "\n",
        "for grams in ngrams:\n",
        "  print(grams)"
      ],
      "execution_count": null,
      "outputs": [
        {
          "output_type": "stream",
          "text": [
            "('誰', '還', '記', '得')\n",
            "('還', '記', '得', '是')\n",
            "('記', '得', '是', '誰')\n",
            "('得', '是', '誰', '先')\n",
            "('是', '誰', '先', '說')\n",
            "('誰', '先', '說', ' ')\n",
            "('先', '說', ' ', '永')\n",
            "('說', ' ', '永', '遠')\n",
            "(' ', '永', '遠', '的')\n",
            "('永', '遠', '的', '愛')\n",
            "('遠', '的', '愛', '我')\n"
          ],
          "name": "stdout"
        }
      ]
    },
    {
      "cell_type": "code",
      "metadata": {
        "id": "RnFuSHZj-qLX",
        "cellView": "form",
        "outputId": "0f850aa4-fec9-4c3f-8eb0-063eda265514",
        "colab": {
          "base_uri": "https://localhost:8080/",
          "height": 261
        }
      },
      "source": [
        "#@title 한국어 형태소 분석 - konlpy(kkma)\n",
        "한국어문장 = '\\uACE0\\uB2E8\\uD588\\uB358 \\uC138\\uC0C1\\uC0B4\\uC774\\uB3C4 \\uADF8\\uB300\\uAC00 \\uC788\\uC5B4 \\uC678\\uB86D\\uC9C4 \\uC54A\\uC558\\uB124 \\uC78A\\uC9C0 \\uBABB\\uD560 \\uB098\\uC758 \\uC0AC\\uB791\\uC544 \\uADF8 \\uB3D9\\uC548 \\uC815\\uB9D0 \\uACE0\\uB9C8\\uC6E0\\uC5C8\\uC5B4'  #@param {type: \"string\"}\n",
        "\n",
        "\n",
        "!pip install konlpy\n",
        "from IPython.display import clear_output\n",
        "clear_output()\n",
        "\n",
        "from konlpy.tag import Kkma\n",
        "from konlpy.utils import pprint\n",
        "kkma = Kkma()\n",
        "\n",
        "print(\"  \")\n",
        "print(\"###문장 분리###\")\n",
        "print(kkma.sentences(한국어문장))\n",
        "\n",
        "print(\"  \")\n",
        "print(\"###명사 추출###\")\n",
        "print(kkma.nouns(한국어문장))\n",
        "\n",
        "print(\"  \")\n",
        "print(\"###형태소 분리###\")\n",
        "print(kkma.morphs(한국어문장))\n",
        "\n",
        "print(\"  \")\n",
        "print(\"###품사 태깅###\")\n",
        "print(kkma.pos(한국어문장))\n"
      ],
      "execution_count": null,
      "outputs": [
        {
          "output_type": "stream",
          "text": [
            "  \n",
            "###문장 분리###\n",
            "['고단했던 세상살이도 그대가 있어 외롭진 않았네', '잊지 못할 나의 사랑 아 그 동안 정말 고마웠었어']\n",
            "  \n",
            "###명사 추출###\n",
            "['고단', '세상살이', '그대', '나의', '사랑', '동안']\n",
            "  \n",
            "###형태소 분리###\n",
            "['고단', '하', '었', '더', 'ㄴ', '세상살이', '도', '그대', '가', '있', '어', '외롭', '지', '는', '않', '았', '네', '잊', '지', '못하', 'ㄹ', '나의', '사랑', '아', '아', '그', '동안', '정말', '고맙', '었', '었', '어']\n",
            "  \n",
            "###품사 태깅###\n",
            "[('고단', 'NNG'), ('하', 'XSV'), ('었', 'EPT'), ('더', 'EPT'), ('ㄴ', 'ETD'), ('세상살이', 'NNG'), ('도', 'JX'), ('그대', 'NP'), ('가', 'JKS'), ('있', 'VV'), ('어', 'ECD'), ('외롭', 'VA'), ('지', 'EFN'), ('는', 'JX'), ('않', 'VXV'), ('았', 'EPT'), ('네', 'EFN'), ('잊', 'VV'), ('지', 'ECD'), ('못하', 'VX'), ('ㄹ', 'ETD'), ('나의', 'NNG'), ('사랑', 'NNG'), ('아', 'VV'), ('아', 'ECS'), ('그', 'MDT'), ('동안', 'NNG'), ('정말', 'MAG'), ('고맙', 'VA'), ('었', 'EPT'), ('었', 'EPT'), ('어', 'EFN')]\n"
          ],
          "name": "stdout"
        }
      ]
    },
    {
      "cell_type": "code",
      "metadata": {
        "id": "5DTKbA5BxZ6U",
        "cellView": "form",
        "outputId": "d9f8a21c-dadb-4581-aad8-6baa54be28a1",
        "colab": {
          "base_uri": "https://localhost:8080/",
          "height": 205
        }
      },
      "source": [
        "#@title 한국어 형태소 분석 - konlpy(okt)\n",
        "한국어문장 = '\\uACE0\\uB2E8\\uD588\\uB358 \\uC138\\uC0C1\\uC0B4\\uC774\\uB3C4 \\uADF8\\uB300\\uAC00 \\uC788\\uC5B4 \\uC678\\uB86D\\uC9C4 \\uC54A\\uC558\\uB124 \\uC78A\\uC9C0 \\uBABB\\uD560 \\uB098\\uC758 \\uC0AC\\uB791\\uC544 \\uADF8 \\uB3D9\\uC548 \\uC815\\uB9D0 \\uACE0\\uB9C8\\uC6E0\\uC5C8\\uC5B4'  #@param {type: \"string\"}\n",
        "\n",
        "\n",
        "!pip install konlpy\n",
        "from IPython.display import clear_output\n",
        "clear_output()\n",
        "\n",
        "from konlpy.tag import Okt\n",
        "from konlpy.utils import pprint\n",
        "okt = Okt()\n",
        "\n",
        "print(\"  \")\n",
        "print(\"###명사 추출###\")\n",
        "print(okt.nouns(한국어문장))\n",
        "\n",
        "print(\"  \")\n",
        "print(\"###형태소 분리###\")\n",
        "print(okt.morphs(한국어문장))\n",
        "\n",
        "print(\"  \")\n",
        "print(\"###품사 태깅###\")\n",
        "print(okt.pos(한국어문장))\n"
      ],
      "execution_count": null,
      "outputs": [
        {
          "output_type": "stream",
          "text": [
            "  \n",
            "###명사 추출###\n",
            "['고단', '세상', '살이', '그대', '나', '사랑', '그', '동안', '정말']\n",
            "  \n",
            "###형태소 분리###\n",
            "['고단', '했던', '세상', '살이', '도', '그대', '가', '있어', '외롭진', '않았네', '잊지', '못', '할', '나', '의', '사랑', '아', '그', '동안', '정말', '고마웠었어']\n",
            "  \n",
            "###품사 태깅###\n",
            "[('고단', 'Noun'), ('했던', 'Verb'), ('세상', 'Noun'), ('살이', 'Noun'), ('도', 'Josa'), ('그대', 'Noun'), ('가', 'Josa'), ('있어', 'Adjective'), ('외롭진', 'Adjective'), ('않았네', 'Verb'), ('잊지', 'Verb'), ('못', 'VerbPrefix'), ('할', 'Verb'), ('나', 'Noun'), ('의', 'Josa'), ('사랑', 'Noun'), ('아', 'Josa'), ('그', 'Noun'), ('동안', 'Noun'), ('정말', 'Noun'), ('고마웠었어', 'Adjective')]\n"
          ],
          "name": "stdout"
        }
      ]
    },
    {
      "cell_type": "code",
      "metadata": {
        "id": "bys2hWtW-8cN",
        "cellView": "form",
        "outputId": "496a9336-da99-4c52-ba57-af6cacc75e11",
        "colab": {
          "base_uri": "https://localhost:8080/",
          "height": 428
        }
      },
      "source": [
        "#@title 중국어 형태소 분석 - Jieba\n",
        "중국어문장 = '\\u6211\\u60F3\\u966A\\u4F60\\u8D70\\u66F4\\u8FDC \\u8F89\\u6620\\u8FD9\\u661F\\u5149\\u6F2B\\u5929'  #@param {type: \"string\"}\n",
        "\n",
        "!pip install jieba\n",
        "from IPython.display import clear_output\n",
        "clear_output()\n",
        "# encoding=utf-8\n",
        "\n",
        "import jieba\n",
        "\n",
        "seg_list = jieba.cut(중국어문장)  # 默认是精确模式\n",
        "print(\"  \")\n",
        "print(\"###精确模式###\")\n",
        "print(\", \".join(seg_list))\n",
        "\n",
        "seg_list = jieba.cut_for_search(중국어문장)  # 搜索引擎模式\n",
        "print(\"  \")\n",
        "print(\"###搜索引擎模式###\")\n",
        "print(\", \".join(seg_list))\n",
        "\n",
        "import jieba.posseg as pseg\n",
        "words = pseg.cut(중국어문장)\n",
        "print(\"  \")\n",
        "print(\"###词性标注###\")\n",
        "for word, flag in words:\n",
        "  print('%s %s' % (word, flag))\n"
      ],
      "execution_count": null,
      "outputs": [
        {
          "output_type": "stream",
          "text": [
            "Building prefix dict from the default dictionary ...\n"
          ],
          "name": "stderr"
        },
        {
          "output_type": "stream",
          "text": [
            "  \n",
            "###精确模式###\n"
          ],
          "name": "stdout"
        },
        {
          "output_type": "stream",
          "text": [
            "Dumping model to file cache /tmp/jieba.cache\n",
            "Loading model cost 0.845 seconds.\n",
            "Prefix dict has been built successfully.\n"
          ],
          "name": "stderr"
        },
        {
          "output_type": "stream",
          "text": [
            "我, 想, 陪你走, 更, 远,  , 辉映, 这, 星光, 漫天\n",
            "  \n",
            "###搜索引擎模式###\n",
            "我, 想, 陪你走, 更, 远,  , 辉映, 这, 星光, 漫天\n",
            "  \n",
            "###词性标注###\n",
            "我 r\n",
            "想 v\n",
            "陪你走 l\n",
            "更 d\n",
            "远 a\n",
            "  x\n",
            "辉映 v\n",
            "这 r\n",
            "星光 n\n",
            "漫天 z\n"
          ],
          "name": "stdout"
        }
      ]
    }
  ]
}